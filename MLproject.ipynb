{
 "cells": [
  {
   "cell_type": "code",
   "execution_count": 3,
   "metadata": {},
   "outputs": [],
   "source": [
    "import pandas as pd\n",
    "import numpy as np\n",
    "import matplotlib.pyplot as plt"
   ]
  },
  {
   "cell_type": "code",
   "execution_count": 4,
   "metadata": {},
   "outputs": [
    {
     "data": {
      "text/html": [
       "<div>\n",
       "<style scoped>\n",
       "    .dataframe tbody tr th:only-of-type {\n",
       "        vertical-align: middle;\n",
       "    }\n",
       "\n",
       "    .dataframe tbody tr th {\n",
       "        vertical-align: top;\n",
       "    }\n",
       "\n",
       "    .dataframe thead th {\n",
       "        text-align: right;\n",
       "    }\n",
       "</style>\n",
       "<table border=\"1\" class=\"dataframe\">\n",
       "  <thead>\n",
       "    <tr style=\"text-align: right;\">\n",
       "      <th></th>\n",
       "      <th>Manufacturer</th>\n",
       "      <th>Model</th>\n",
       "      <th>Description</th>\n",
       "      <th>Transmission</th>\n",
       "      <th>Vehicle_Type</th>\n",
       "      <th>Engine_Capacity</th>\n",
       "      <th>Fuel_Type</th>\n",
       "      <th>Powertrain</th>\n",
       "      <th>Engine_PowerPS</th>\n",
       "      <th>Engine_Power</th>\n",
       "      <th>Emissions_CO2</th>\n",
       "      <th>THC0Emissions0[mg/km]</th>\n",
       "      <th>Emissions NOx [mg/km]</th>\n",
       "      <th>THC + NOx Emissions [mg/km]</th>\n",
       "      <th>Particulates [No.] [mg/km]</th>\n",
       "      <th>RDE NOx Urban</th>\n",
       "      <th>RDE NOx Combined</th>\n",
       "    </tr>\n",
       "  </thead>\n",
       "  <tbody>\n",
       "    <tr>\n",
       "      <th>0</th>\n",
       "      <td>ABARTH</td>\n",
       "      <td>595 MY22</td>\n",
       "      <td>1.4 Tjet 165 hp Manual (VL)</td>\n",
       "      <td>M5</td>\n",
       "      <td>Manual</td>\n",
       "      <td>1368</td>\n",
       "      <td>Petrol</td>\n",
       "      <td>Internal Combustion Engine (ICE)</td>\n",
       "      <td>165</td>\n",
       "      <td>121</td>\n",
       "      <td>688</td>\n",
       "      <td>66.0</td>\n",
       "      <td>28</td>\n",
       "      <td>NaN</td>\n",
       "      <td>NaN</td>\n",
       "      <td>60.0</td>\n",
       "      <td>60.0</td>\n",
       "    </tr>\n",
       "    <tr>\n",
       "      <th>1</th>\n",
       "      <td>ABARTH</td>\n",
       "      <td>595 MY22</td>\n",
       "      <td>1.4 Tjet 165 hp Manual (VH)</td>\n",
       "      <td>M5</td>\n",
       "      <td>Manual</td>\n",
       "      <td>1368</td>\n",
       "      <td>Petrol</td>\n",
       "      <td>Internal Combustion Engine (ICE)</td>\n",
       "      <td>165</td>\n",
       "      <td>121</td>\n",
       "      <td>688</td>\n",
       "      <td>66.0</td>\n",
       "      <td>28</td>\n",
       "      <td>NaN</td>\n",
       "      <td>NaN</td>\n",
       "      <td>60.0</td>\n",
       "      <td>60.0</td>\n",
       "    </tr>\n",
       "    <tr>\n",
       "      <th>2</th>\n",
       "      <td>ABARTH</td>\n",
       "      <td>595 MY22</td>\n",
       "      <td>1.4 Tjet 165 hp Manual  Convertible (VL)</td>\n",
       "      <td>M5</td>\n",
       "      <td>Manual</td>\n",
       "      <td>1368</td>\n",
       "      <td>Petrol</td>\n",
       "      <td>Internal Combustion Engine (ICE)</td>\n",
       "      <td>165</td>\n",
       "      <td>121</td>\n",
       "      <td>688</td>\n",
       "      <td>66.0</td>\n",
       "      <td>28</td>\n",
       "      <td>NaN</td>\n",
       "      <td>NaN</td>\n",
       "      <td>60.0</td>\n",
       "      <td>60.0</td>\n",
       "    </tr>\n",
       "    <tr>\n",
       "      <th>3</th>\n",
       "      <td>ABARTH</td>\n",
       "      <td>595 MY22</td>\n",
       "      <td>1.4 Tjet 165 hp Manual  Convertible (VH)</td>\n",
       "      <td>M5</td>\n",
       "      <td>Manual</td>\n",
       "      <td>1368</td>\n",
       "      <td>Petrol</td>\n",
       "      <td>Internal Combustion Engine (ICE)</td>\n",
       "      <td>165</td>\n",
       "      <td>121</td>\n",
       "      <td>688</td>\n",
       "      <td>66.0</td>\n",
       "      <td>28</td>\n",
       "      <td>NaN</td>\n",
       "      <td>NaN</td>\n",
       "      <td>60.0</td>\n",
       "      <td>60.0</td>\n",
       "    </tr>\n",
       "    <tr>\n",
       "      <th>4</th>\n",
       "      <td>ABARTH</td>\n",
       "      <td>595 MY22</td>\n",
       "      <td>Turismo 1.4 Tjet 165 hp Manual (VL)</td>\n",
       "      <td>M5</td>\n",
       "      <td>Manual</td>\n",
       "      <td>1368</td>\n",
       "      <td>Petrol</td>\n",
       "      <td>Internal Combustion Engine (ICE)</td>\n",
       "      <td>165</td>\n",
       "      <td>121</td>\n",
       "      <td>688</td>\n",
       "      <td>66.0</td>\n",
       "      <td>28</td>\n",
       "      <td>NaN</td>\n",
       "      <td>NaN</td>\n",
       "      <td>60.0</td>\n",
       "      <td>60.0</td>\n",
       "    </tr>\n",
       "  </tbody>\n",
       "</table>\n",
       "</div>"
      ],
      "text/plain": [
       "  Manufacturer     Model                               Description  \\\n",
       "0       ABARTH  595 MY22               1.4 Tjet 165 hp Manual (VL)   \n",
       "1       ABARTH  595 MY22               1.4 Tjet 165 hp Manual (VH)   \n",
       "2       ABARTH  595 MY22  1.4 Tjet 165 hp Manual  Convertible (VL)   \n",
       "3       ABARTH  595 MY22  1.4 Tjet 165 hp Manual  Convertible (VH)   \n",
       "4       ABARTH  595 MY22       Turismo 1.4 Tjet 165 hp Manual (VL)   \n",
       "\n",
       "  Transmission Vehicle_Type  Engine_Capacity Fuel_Type  \\\n",
       "0           M5       Manual             1368    Petrol   \n",
       "1           M5       Manual             1368    Petrol   \n",
       "2           M5       Manual             1368    Petrol   \n",
       "3           M5       Manual             1368    Petrol   \n",
       "4           M5       Manual             1368    Petrol   \n",
       "\n",
       "                         Powertrain  Engine_PowerPS  Engine_Power  \\\n",
       "0  Internal Combustion Engine (ICE)             165           121   \n",
       "1  Internal Combustion Engine (ICE)             165           121   \n",
       "2  Internal Combustion Engine (ICE)             165           121   \n",
       "3  Internal Combustion Engine (ICE)             165           121   \n",
       "4  Internal Combustion Engine (ICE)             165           121   \n",
       "\n",
       "   Emissions_CO2  THC0Emissions0[mg/km]  Emissions NOx [mg/km]  \\\n",
       "0            688                   66.0                     28   \n",
       "1            688                   66.0                     28   \n",
       "2            688                   66.0                     28   \n",
       "3            688                   66.0                     28   \n",
       "4            688                   66.0                     28   \n",
       "\n",
       "   THC + NOx Emissions [mg/km]  Particulates [No.] [mg/km]  RDE NOx Urban  \\\n",
       "0                          NaN                         NaN           60.0   \n",
       "1                          NaN                         NaN           60.0   \n",
       "2                          NaN                         NaN           60.0   \n",
       "3                          NaN                         NaN           60.0   \n",
       "4                          NaN                         NaN           60.0   \n",
       "\n",
       "   RDE NOx Combined  \n",
       "0              60.0  \n",
       "1              60.0  \n",
       "2              60.0  \n",
       "3              60.0  \n",
       "4              60.0  "
      ]
     },
     "execution_count": 4,
     "metadata": {},
     "output_type": "execute_result"
    }
   ],
   "source": [
    "df=pd.read_csv(\"vehicledata.csv\")\n",
    "df.head()"
   ]
  },
  {
   "cell_type": "code",
   "execution_count": 5,
   "metadata": {},
   "outputs": [
    {
     "data": {
      "text/html": [
       "<div>\n",
       "<style scoped>\n",
       "    .dataframe tbody tr th:only-of-type {\n",
       "        vertical-align: middle;\n",
       "    }\n",
       "\n",
       "    .dataframe tbody tr th {\n",
       "        vertical-align: top;\n",
       "    }\n",
       "\n",
       "    .dataframe thead th {\n",
       "        text-align: right;\n",
       "    }\n",
       "</style>\n",
       "<table border=\"1\" class=\"dataframe\">\n",
       "  <thead>\n",
       "    <tr style=\"text-align: right;\">\n",
       "      <th></th>\n",
       "      <th>Manufacturer</th>\n",
       "      <th>Transmission</th>\n",
       "      <th>Vehicle_Type</th>\n",
       "      <th>Engine_Capacity</th>\n",
       "      <th>Fuel_Type</th>\n",
       "      <th>Powertrain</th>\n",
       "      <th>Engine_PowerPS</th>\n",
       "      <th>Emissions_CO2</th>\n",
       "    </tr>\n",
       "  </thead>\n",
       "  <tbody>\n",
       "    <tr>\n",
       "      <th>0</th>\n",
       "      <td>ABARTH</td>\n",
       "      <td>M5</td>\n",
       "      <td>Manual</td>\n",
       "      <td>1368</td>\n",
       "      <td>Petrol</td>\n",
       "      <td>Internal Combustion Engine (ICE)</td>\n",
       "      <td>165</td>\n",
       "      <td>688</td>\n",
       "    </tr>\n",
       "    <tr>\n",
       "      <th>1</th>\n",
       "      <td>ABARTH</td>\n",
       "      <td>M5</td>\n",
       "      <td>Manual</td>\n",
       "      <td>1368</td>\n",
       "      <td>Petrol</td>\n",
       "      <td>Internal Combustion Engine (ICE)</td>\n",
       "      <td>165</td>\n",
       "      <td>688</td>\n",
       "    </tr>\n",
       "    <tr>\n",
       "      <th>2</th>\n",
       "      <td>ABARTH</td>\n",
       "      <td>M5</td>\n",
       "      <td>Manual</td>\n",
       "      <td>1368</td>\n",
       "      <td>Petrol</td>\n",
       "      <td>Internal Combustion Engine (ICE)</td>\n",
       "      <td>165</td>\n",
       "      <td>688</td>\n",
       "    </tr>\n",
       "    <tr>\n",
       "      <th>3</th>\n",
       "      <td>ABARTH</td>\n",
       "      <td>M5</td>\n",
       "      <td>Manual</td>\n",
       "      <td>1368</td>\n",
       "      <td>Petrol</td>\n",
       "      <td>Internal Combustion Engine (ICE)</td>\n",
       "      <td>165</td>\n",
       "      <td>688</td>\n",
       "    </tr>\n",
       "    <tr>\n",
       "      <th>4</th>\n",
       "      <td>ABARTH</td>\n",
       "      <td>M5</td>\n",
       "      <td>Manual</td>\n",
       "      <td>1368</td>\n",
       "      <td>Petrol</td>\n",
       "      <td>Internal Combustion Engine (ICE)</td>\n",
       "      <td>165</td>\n",
       "      <td>688</td>\n",
       "    </tr>\n",
       "  </tbody>\n",
       "</table>\n",
       "</div>"
      ],
      "text/plain": [
       "  Manufacturer Transmission Vehicle_Type  Engine_Capacity Fuel_Type  \\\n",
       "0       ABARTH           M5       Manual             1368    Petrol   \n",
       "1       ABARTH           M5       Manual             1368    Petrol   \n",
       "2       ABARTH           M5       Manual             1368    Petrol   \n",
       "3       ABARTH           M5       Manual             1368    Petrol   \n",
       "4       ABARTH           M5       Manual             1368    Petrol   \n",
       "\n",
       "                         Powertrain  Engine_PowerPS  Emissions_CO2  \n",
       "0  Internal Combustion Engine (ICE)             165            688  \n",
       "1  Internal Combustion Engine (ICE)             165            688  \n",
       "2  Internal Combustion Engine (ICE)             165            688  \n",
       "3  Internal Combustion Engine (ICE)             165            688  \n",
       "4  Internal Combustion Engine (ICE)             165            688  "
      ]
     },
     "execution_count": 5,
     "metadata": {},
     "output_type": "execute_result"
    }
   ],
   "source": [
    "pd.options.display.max_rows = 1000\n",
    "cdf=df[['Manufacturer','Transmission','Vehicle_Type','Engine_Capacity','Fuel_Type','Powertrain','Engine_PowerPS','Emissions_CO2']]\n",
    "cdf.head()"
   ]
  },
  {
   "cell_type": "code",
   "execution_count": 6,
   "metadata": {},
   "outputs": [
    {
     "name": "stdout",
     "output_type": "stream",
     "text": [
      "<class 'pandas.core.frame.DataFrame'>\n",
      "RangeIndex: 4916 entries, 0 to 4915\n",
      "Data columns (total 8 columns):\n",
      " #   Column           Non-Null Count  Dtype \n",
      "---  ------           --------------  ----- \n",
      " 0   Manufacturer     4916 non-null   object\n",
      " 1   Transmission     4907 non-null   object\n",
      " 2   Vehicle_Type     4916 non-null   object\n",
      " 3   Engine_Capacity  4916 non-null   int64 \n",
      " 4   Fuel_Type        4916 non-null   object\n",
      " 5   Powertrain       4916 non-null   object\n",
      " 6   Engine_PowerPS   4916 non-null   int64 \n",
      " 7   Emissions_CO2    4916 non-null   int64 \n",
      "dtypes: int64(3), object(5)\n",
      "memory usage: 307.4+ KB\n"
     ]
    }
   ],
   "source": [
    "cdf.info()"
   ]
  },
  {
   "cell_type": "code",
   "execution_count": 7,
   "metadata": {},
   "outputs": [
    {
     "name": "stderr",
     "output_type": "stream",
     "text": [
      "C:\\Users\\asus\\AppData\\Local\\Temp\\ipykernel_22020\\3569896875.py:3: SettingWithCopyWarning: \n",
      "A value is trying to be set on a copy of a slice from a DataFrame.\n",
      "Try using .loc[row_indexer,col_indexer] = value instead\n",
      "\n",
      "See the caveats in the documentation: https://pandas.pydata.org/pandas-docs/stable/user_guide/indexing.html#returning-a-view-versus-a-copy\n",
      "  cdf['Manufacturerle']=np.int64(le.fit_transform(cdf.Manufacturer))\n",
      "C:\\Users\\asus\\AppData\\Local\\Temp\\ipykernel_22020\\3569896875.py:5: SettingWithCopyWarning: \n",
      "A value is trying to be set on a copy of a slice from a DataFrame.\n",
      "Try using .loc[row_indexer,col_indexer] = value instead\n",
      "\n",
      "See the caveats in the documentation: https://pandas.pydata.org/pandas-docs/stable/user_guide/indexing.html#returning-a-view-versus-a-copy\n",
      "  cdf['Transmissionle']=np.int64(le.fit_transform(cdf.Transmission))\n",
      "C:\\Users\\asus\\AppData\\Local\\Temp\\ipykernel_22020\\3569896875.py:6: SettingWithCopyWarning: \n",
      "A value is trying to be set on a copy of a slice from a DataFrame.\n",
      "Try using .loc[row_indexer,col_indexer] = value instead\n",
      "\n",
      "See the caveats in the documentation: https://pandas.pydata.org/pandas-docs/stable/user_guide/indexing.html#returning-a-view-versus-a-copy\n",
      "  cdf['Vehicle_Typele']=np.int64(le.fit_transform(cdf.Vehicle_Type))\n",
      "C:\\Users\\asus\\AppData\\Local\\Temp\\ipykernel_22020\\3569896875.py:7: SettingWithCopyWarning: \n",
      "A value is trying to be set on a copy of a slice from a DataFrame.\n",
      "Try using .loc[row_indexer,col_indexer] = value instead\n",
      "\n",
      "See the caveats in the documentation: https://pandas.pydata.org/pandas-docs/stable/user_guide/indexing.html#returning-a-view-versus-a-copy\n",
      "  cdf['Fuel_Typele']=np.int64(le.fit_transform(cdf.Fuel_Type))\n",
      "C:\\Users\\asus\\AppData\\Local\\Temp\\ipykernel_22020\\3569896875.py:8: SettingWithCopyWarning: \n",
      "A value is trying to be set on a copy of a slice from a DataFrame.\n",
      "Try using .loc[row_indexer,col_indexer] = value instead\n",
      "\n",
      "See the caveats in the documentation: https://pandas.pydata.org/pandas-docs/stable/user_guide/indexing.html#returning-a-view-versus-a-copy\n",
      "  cdf['Powertrainle']=np.int64(le.fit_transform(cdf.Powertrain))\n"
     ]
    }
   ],
   "source": [
    "from sklearn.preprocessing import LabelEncoder\n",
    "le=LabelEncoder()\n",
    "cdf['Manufacturerle']=np.int64(le.fit_transform(cdf.Manufacturer))\n",
    "# cdf['Modelle']=le.fit_transform(cdf.Model)\n",
    "cdf['Transmissionle']=np.int64(le.fit_transform(cdf.Transmission))\n",
    "cdf['Vehicle_Typele']=np.int64(le.fit_transform(cdf.Vehicle_Type))\n",
    "cdf['Fuel_Typele']=np.int64(le.fit_transform(cdf.Fuel_Type))\n",
    "cdf['Powertrainle']=np.int64(le.fit_transform(cdf.Powertrain))\n"
   ]
  },
  {
   "cell_type": "code",
   "execution_count": 8,
   "metadata": {},
   "outputs": [],
   "source": [
    "scdf=cdf[['Manufacturerle','Transmissionle','Vehicle_Typele','Fuel_Typele','Powertrainle','Engine_PowerPS','Emissions_CO2']]"
   ]
  },
  {
   "cell_type": "code",
   "execution_count": 9,
   "metadata": {},
   "outputs": [
    {
     "data": {
      "text/html": [
       "<div>\n",
       "<style scoped>\n",
       "    .dataframe tbody tr th:only-of-type {\n",
       "        vertical-align: middle;\n",
       "    }\n",
       "\n",
       "    .dataframe tbody tr th {\n",
       "        vertical-align: top;\n",
       "    }\n",
       "\n",
       "    .dataframe thead th {\n",
       "        text-align: right;\n",
       "    }\n",
       "</style>\n",
       "<table border=\"1\" class=\"dataframe\">\n",
       "  <thead>\n",
       "    <tr style=\"text-align: right;\">\n",
       "      <th></th>\n",
       "      <th>Manufacturerle</th>\n",
       "      <th>Transmissionle</th>\n",
       "      <th>Vehicle_Typele</th>\n",
       "      <th>Fuel_Typele</th>\n",
       "      <th>Powertrainle</th>\n",
       "      <th>Engine_PowerPS</th>\n",
       "      <th>Emissions_CO2</th>\n",
       "    </tr>\n",
       "  </thead>\n",
       "  <tbody>\n",
       "    <tr>\n",
       "      <th>0</th>\n",
       "      <td>0</td>\n",
       "      <td>33</td>\n",
       "      <td>1</td>\n",
       "      <td>3</td>\n",
       "      <td>1</td>\n",
       "      <td>165</td>\n",
       "      <td>688</td>\n",
       "    </tr>\n",
       "    <tr>\n",
       "      <th>1</th>\n",
       "      <td>0</td>\n",
       "      <td>33</td>\n",
       "      <td>1</td>\n",
       "      <td>3</td>\n",
       "      <td>1</td>\n",
       "      <td>165</td>\n",
       "      <td>688</td>\n",
       "    </tr>\n",
       "    <tr>\n",
       "      <th>2</th>\n",
       "      <td>0</td>\n",
       "      <td>33</td>\n",
       "      <td>1</td>\n",
       "      <td>3</td>\n",
       "      <td>1</td>\n",
       "      <td>165</td>\n",
       "      <td>688</td>\n",
       "    </tr>\n",
       "    <tr>\n",
       "      <th>3</th>\n",
       "      <td>0</td>\n",
       "      <td>33</td>\n",
       "      <td>1</td>\n",
       "      <td>3</td>\n",
       "      <td>1</td>\n",
       "      <td>165</td>\n",
       "      <td>688</td>\n",
       "    </tr>\n",
       "    <tr>\n",
       "      <th>4</th>\n",
       "      <td>0</td>\n",
       "      <td>33</td>\n",
       "      <td>1</td>\n",
       "      <td>3</td>\n",
       "      <td>1</td>\n",
       "      <td>165</td>\n",
       "      <td>688</td>\n",
       "    </tr>\n",
       "  </tbody>\n",
       "</table>\n",
       "</div>"
      ],
      "text/plain": [
       "   Manufacturerle  Transmissionle  Vehicle_Typele  Fuel_Typele  Powertrainle  \\\n",
       "0               0              33               1            3             1   \n",
       "1               0              33               1            3             1   \n",
       "2               0              33               1            3             1   \n",
       "3               0              33               1            3             1   \n",
       "4               0              33               1            3             1   \n",
       "\n",
       "   Engine_PowerPS  Emissions_CO2  \n",
       "0             165            688  \n",
       "1             165            688  \n",
       "2             165            688  \n",
       "3             165            688  \n",
       "4             165            688  "
      ]
     },
     "execution_count": 9,
     "metadata": {},
     "output_type": "execute_result"
    }
   ],
   "source": [
    "\n",
    "scdf.head()"
   ]
  },
  {
   "cell_type": "code",
   "execution_count": 10,
   "metadata": {},
   "outputs": [
    {
     "data": {
      "text/html": [
       "<div>\n",
       "<style scoped>\n",
       "    .dataframe tbody tr th:only-of-type {\n",
       "        vertical-align: middle;\n",
       "    }\n",
       "\n",
       "    .dataframe tbody tr th {\n",
       "        vertical-align: top;\n",
       "    }\n",
       "\n",
       "    .dataframe thead th {\n",
       "        text-align: right;\n",
       "    }\n",
       "</style>\n",
       "<table border=\"1\" class=\"dataframe\">\n",
       "  <thead>\n",
       "    <tr style=\"text-align: right;\">\n",
       "      <th></th>\n",
       "      <th>Manufacturerle</th>\n",
       "      <th>Transmissionle</th>\n",
       "      <th>Vehicle_Typele</th>\n",
       "      <th>Fuel_Typele</th>\n",
       "      <th>Powertrainle</th>\n",
       "      <th>Engine_PowerPS</th>\n",
       "      <th>Emissions_CO2</th>\n",
       "    </tr>\n",
       "  </thead>\n",
       "  <tbody>\n",
       "    <tr>\n",
       "      <th>count</th>\n",
       "      <td>4916.000000</td>\n",
       "      <td>4916.000000</td>\n",
       "      <td>4916.000000</td>\n",
       "      <td>4916.000000</td>\n",
       "      <td>4916.000000</td>\n",
       "      <td>4916.000000</td>\n",
       "      <td>4916.000000</td>\n",
       "    </tr>\n",
       "    <tr>\n",
       "      <th>mean</th>\n",
       "      <td>22.138324</td>\n",
       "      <td>26.559805</td>\n",
       "      <td>0.367982</td>\n",
       "      <td>2.057974</td>\n",
       "      <td>1.276444</td>\n",
       "      <td>180.885476</td>\n",
       "      <td>243.205858</td>\n",
       "    </tr>\n",
       "    <tr>\n",
       "      <th>std</th>\n",
       "      <td>9.817272</td>\n",
       "      <td>7.439186</td>\n",
       "      <td>0.482305</td>\n",
       "      <td>1.162178</td>\n",
       "      <td>1.063528</td>\n",
       "      <td>112.477963</td>\n",
       "      <td>191.636980</td>\n",
       "    </tr>\n",
       "    <tr>\n",
       "      <th>min</th>\n",
       "      <td>0.000000</td>\n",
       "      <td>0.000000</td>\n",
       "      <td>0.000000</td>\n",
       "      <td>0.000000</td>\n",
       "      <td>0.000000</td>\n",
       "      <td>0.000000</td>\n",
       "      <td>0.000000</td>\n",
       "    </tr>\n",
       "    <tr>\n",
       "      <th>25%</th>\n",
       "      <td>13.000000</td>\n",
       "      <td>21.000000</td>\n",
       "      <td>0.000000</td>\n",
       "      <td>2.000000</td>\n",
       "      <td>1.000000</td>\n",
       "      <td>110.000000</td>\n",
       "      <td>88.000000</td>\n",
       "    </tr>\n",
       "    <tr>\n",
       "      <th>50%</th>\n",
       "      <td>24.000000</td>\n",
       "      <td>28.000000</td>\n",
       "      <td>0.000000</td>\n",
       "      <td>2.000000</td>\n",
       "      <td>1.000000</td>\n",
       "      <td>145.000000</td>\n",
       "      <td>195.000000</td>\n",
       "    </tr>\n",
       "    <tr>\n",
       "      <th>75%</th>\n",
       "      <td>31.000000</td>\n",
       "      <td>34.000000</td>\n",
       "      <td>1.000000</td>\n",
       "      <td>3.000000</td>\n",
       "      <td>1.000000</td>\n",
       "      <td>200.000000</td>\n",
       "      <td>351.000000</td>\n",
       "    </tr>\n",
       "    <tr>\n",
       "      <th>max</th>\n",
       "      <td>38.000000</td>\n",
       "      <td>44.000000</td>\n",
       "      <td>1.000000</td>\n",
       "      <td>4.000000</td>\n",
       "      <td>4.000000</td>\n",
       "      <td>802.000000</td>\n",
       "      <td>927.000000</td>\n",
       "    </tr>\n",
       "  </tbody>\n",
       "</table>\n",
       "</div>"
      ],
      "text/plain": [
       "       Manufacturerle  Transmissionle  Vehicle_Typele  Fuel_Typele  \\\n",
       "count     4916.000000     4916.000000     4916.000000  4916.000000   \n",
       "mean        22.138324       26.559805        0.367982     2.057974   \n",
       "std          9.817272        7.439186        0.482305     1.162178   \n",
       "min          0.000000        0.000000        0.000000     0.000000   \n",
       "25%         13.000000       21.000000        0.000000     2.000000   \n",
       "50%         24.000000       28.000000        0.000000     2.000000   \n",
       "75%         31.000000       34.000000        1.000000     3.000000   \n",
       "max         38.000000       44.000000        1.000000     4.000000   \n",
       "\n",
       "       Powertrainle  Engine_PowerPS  Emissions_CO2  \n",
       "count   4916.000000     4916.000000    4916.000000  \n",
       "mean       1.276444      180.885476     243.205858  \n",
       "std        1.063528      112.477963     191.636980  \n",
       "min        0.000000        0.000000       0.000000  \n",
       "25%        1.000000      110.000000      88.000000  \n",
       "50%        1.000000      145.000000     195.000000  \n",
       "75%        1.000000      200.000000     351.000000  \n",
       "max        4.000000      802.000000     927.000000  "
      ]
     },
     "execution_count": 10,
     "metadata": {},
     "output_type": "execute_result"
    }
   ],
   "source": [
    "scdf.describe()"
   ]
  },
  {
   "cell_type": "code",
   "execution_count": 11,
   "metadata": {},
   "outputs": [
    {
     "name": "stdout",
     "output_type": "stream",
     "text": [
      "<class 'pandas.core.frame.DataFrame'>\n",
      "RangeIndex: 4916 entries, 0 to 4915\n",
      "Data columns (total 7 columns):\n",
      " #   Column          Non-Null Count  Dtype\n",
      "---  ------          --------------  -----\n",
      " 0   Manufacturerle  4916 non-null   int64\n",
      " 1   Transmissionle  4916 non-null   int64\n",
      " 2   Vehicle_Typele  4916 non-null   int64\n",
      " 3   Fuel_Typele     4916 non-null   int64\n",
      " 4   Powertrainle    4916 non-null   int64\n",
      " 5   Engine_PowerPS  4916 non-null   int64\n",
      " 6   Emissions_CO2   4916 non-null   int64\n",
      "dtypes: int64(7)\n",
      "memory usage: 269.0 KB\n"
     ]
    }
   ],
   "source": [
    "scdf.info()"
   ]
  },
  {
   "cell_type": "code",
   "execution_count": 12,
   "metadata": {},
   "outputs": [
    {
     "data": {
      "text/plain": [
       "Transmission\n",
       "M6                    1142\n",
       "A8                     557\n",
       "M5                     492\n",
       "CVT                    451\n",
       "A7                     437\n",
       "A6                     370\n",
       "A9                     335\n",
       "A8-AWD                 241\n",
       "E-CVT                  138\n",
       "DCT7                   102\n",
       "A9-AWD                  94\n",
       "MT6                     87\n",
       "8AT                     48\n",
       "AT6                     35\n",
       "6MT                     30\n",
       "SA7                     30\n",
       "DCT6                    27\n",
       "8A-AWD                  26\n",
       "AC                      22\n",
       "6AT                     20\n",
       "A4                      18\n",
       "SA5                     18\n",
       "8AT-FWD                 17\n",
       "A5                      17\n",
       "8AT-AWD                 15\n",
       "10 Speed Automatic      14\n",
       "MT5                     13\n",
       "7SP. SSG                13\n",
       "7DCT                    13\n",
       "eCVT                    13\n",
       "AMT5                    12\n",
       "A10                     11\n",
       "7AT-FWD                 11\n",
       "M6-AWD                   8\n",
       "DCT8                     7\n",
       "SA8                      5\n",
       "6-speed auto DCT         4\n",
       "A1                       4\n",
       "7A-FWD                   4\n",
       "MT7                      2\n",
       "7-Speed DCT              1\n",
       "5MT                      1\n",
       "8SP, SSG                 1\n",
       "M7                       1\n",
       "Name: count, dtype: int64"
      ]
     },
     "execution_count": 12,
     "metadata": {},
     "output_type": "execute_result"
    }
   ],
   "source": [
    "\n",
    "cdf.Transmission.value_counts()"
   ]
  },
  {
   "cell_type": "code",
   "execution_count": 13,
   "metadata": {},
   "outputs": [
    {
     "data": {
      "text/plain": [
       "Manufacturer\n",
       "RENAULT                 874\n",
       "DACIA                   607\n",
       "MERCEDES-BENZ           484\n",
       "TOYOTA                  377\n",
       "LAND ROVER              289\n",
       "KIA                     246\n",
       "MAZDA                   241\n",
       "FORD                    218\n",
       "HONDA                   201\n",
       "PEUGEOT                 186\n",
       "SEAT                    136\n",
       "CITROEN                 110\n",
       "LEXUS                   104\n",
       "JAGUAR                  104\n",
       "HYUNDAI                  93\n",
       "VOLVO                    86\n",
       "FIAT                     64\n",
       "ABARTH                   47\n",
       "NISSAN                   45\n",
       "ALPINE                   44\n",
       "GENESIS                  42\n",
       "DS                       40\n",
       "CHRYSLER JEEP            36\n",
       "ALFA ROMEO               33\n",
       "MASERATI                 31\n",
       "SUZUKI                   23\n",
       "Rolls Royce              21\n",
       "MG MOTORS UK             20\n",
       "INEOS Automotive Ltd     20\n",
       "SSANGYONG                18\n",
       "FERRARI                  16\n",
       "McLaren                  14\n",
       "ASTON MARTIN LAGONDA     13\n",
       "LOTUS                     9\n",
       "SUBARU                    9\n",
       "BENTLEY MOTORS            5\n",
       "CHEVROLET                 4\n",
       "MORGAN MOTOR COMPANY      3\n",
       "CADILLAC                  3\n",
       "Name: count, dtype: int64"
      ]
     },
     "execution_count": 13,
     "metadata": {},
     "output_type": "execute_result"
    }
   ],
   "source": [
    "cdf.Manufacturer.value_counts()"
   ]
  },
  {
   "cell_type": "code",
   "execution_count": 14,
   "metadata": {},
   "outputs": [],
   "source": [
    "# cdf.Model.value_counts()"
   ]
  },
  {
   "cell_type": "code",
   "execution_count": 15,
   "metadata": {},
   "outputs": [],
   "source": [
    "# cdf.Engine_PowerPS.value_counts()\n"
   ]
  },
  {
   "cell_type": "code",
   "execution_count": 16,
   "metadata": {},
   "outputs": [
    {
     "data": {
      "text/plain": [
       "Vehicle_Type\n",
       "Automatic    3107\n",
       "Manual       1809\n",
       "Name: count, dtype: int64"
      ]
     },
     "execution_count": 16,
     "metadata": {},
     "output_type": "execute_result"
    }
   ],
   "source": [
    "cdf.Vehicle_Type.value_counts()"
   ]
  },
  {
   "cell_type": "code",
   "execution_count": 17,
   "metadata": {},
   "outputs": [
    {
     "data": {
      "text/plain": [
       "Fuel_Type\n",
       "Petrol               2247\n",
       "Electric / Petrol    1474\n",
       "Diesel                995\n",
       "Electric / Diesel     124\n",
       "Petrol / LPG           76\n",
       "Name: count, dtype: int64"
      ]
     },
     "execution_count": 17,
     "metadata": {},
     "output_type": "execute_result"
    }
   ],
   "source": [
    "cdf.Fuel_Type.value_counts()"
   ]
  },
  {
   "cell_type": "code",
   "execution_count": 18,
   "metadata": {},
   "outputs": [
    {
     "data": {
      "text/plain": [
       "Powertrain\n",
       "Internal Combustion Engine (ICE)          3139\n",
       "Hybrid Electric Vehicle (HEV)              787\n",
       "Mild Hybrid Electric Vehicle (MHEV)        466\n",
       "Plug-in Hybrid Electric Vehicle (PHEV)     345\n",
       "Micro Hybrid                               179\n",
       "Name: count, dtype: int64"
      ]
     },
     "execution_count": 18,
     "metadata": {},
     "output_type": "execute_result"
    }
   ],
   "source": [
    "cdf.Powertrain.value_counts()"
   ]
  },
  {
   "cell_type": "code",
   "execution_count": 19,
   "metadata": {},
   "outputs": [
    {
     "data": {
      "image/png": "[encoded data removed]",
      "text/plain": [
       "<Figure size 640x480 with 1 Axes>"
      ]
     },
     "metadata": {},
     "output_type": "display_data"
    }
   ],
   "source": [
    "plt.scatter(cdf.Engine_PowerPS,cdf.Emissions_CO2,color='green')\n",
    "plt.xlabel(\"Engine_Power (PS)\")\n",
    "plt.ylabel(\"Carbon Emissions\")\n",
    "plt.show()\n"
   ]
  },
  {
   "cell_type": "code",
   "execution_count": 20,
   "metadata": {},
   "outputs": [],
   "source": [
    "msk=np.random.rand(len(df))<0.8\n",
    "train=scdf[msk]\n",
    "test=scdf[~msk]"
   ]
  },
  {
   "cell_type": "code",
   "execution_count": 21,
   "metadata": {},
   "outputs": [],
   "source": [
    "# from sklearn import linear_model\n",
    "# from sklearn.model_selection import train_test_split\n",
    "# from sklearn.metrics import r2_score\n",
    "# x=np.asanyarray(train[['Manufacturerle','Transmissionle','Vehicle_Typele','Fuel_Typele','Powertrainle','Engine_PowerPS']])\n",
    "# y=np.asanyarray(train[['Emissions_CO2']])\n",
    "# X_train,X_test,y_train,y_test=train_test_split(x,y,test_size=.8,random_state=42)\n",
    "# regr=linear_model.LinearRegression()\n",
    "# regr.fit(X_train,y_train)\n",
    "\n",
    "# y_pred=regr.predict(X_test)\n",
    "# score=r2_score(y_test,y_pred)\n",
    "# print('Coefficients',regr.coef_)\n",
    "# regr.score(X_train,y_train)\n"
   ]
  },
  {
   "cell_type": "code",
   "execution_count": 22,
   "metadata": {},
   "outputs": [],
   "source": [
    "# prediction_test=regr.predict(X_test)\n",
    "# print(y_test,prediction_test)"
   ]
  },
  {
   "cell_type": "code",
   "execution_count": 23,
   "metadata": {},
   "outputs": [],
   "source": [
    "# np.mean(prediction_test-y_test)**2"
   ]
  },
  {
   "cell_type": "code",
   "execution_count": 24,
   "metadata": {},
   "outputs": [],
   "source": [
    "# from sklearn.calibration import cross_val_predict\n",
    "\n",
    "\n",
    "# y_pred_lin = cross_val_predict(regr,X_train,y_train,cv=10)\n",
    "# plt.scatter(y_train, y_pred_lin)\n",
    "# plt.show()"
   ]
  },
  {
   "cell_type": "code",
   "execution_count": 25,
   "metadata": {},
   "outputs": [
    {
     "data": {
      "image/png": "[encoded data removed]",
      "text/plain": [
       "<Figure size 640x480 with 1 Axes>"
      ]
     },
     "metadata": {},
     "output_type": "display_data"
    },
    {
     "name": "stdout",
     "output_type": "stream",
     "text": [
      "0.9319468581425028\n"
     ]
    }
   ],
   "source": [
    "from sklearn import tree\n",
    "from sklearn.model_selection import train_test_split\n",
    "from sklearn.metrics import r2_score\n",
    "x=np.asanyarray(train[['Manufacturerle','Transmissionle','Vehicle_Typele','Fuel_Typele','Powertrainle','Engine_PowerPS']])\n",
    "y=np.asanyarray(train[['Emissions_CO2']])\n",
    "X_train,X_test,y_train,y_test=train_test_split(x,y,test_size=.8,random_state=42)\n",
    "regr=tree.DecisionTreeRegressor()\n",
    "regr.fit(X_train,y_train)\n",
    "y_pred=regr.predict(X_test)\n",
    "score=r2_score(y_test,y_pred)\n",
    "from sklearn.calibration import cross_val_predict\n",
    "y_pred_lin = cross_val_predict(regr,X_train,y_train,cv=10)\n",
    "plt.scatter(y_train, y_pred_lin)\n",
    "plt.show()\n",
    "print(regr.score(X_train,y_train))"
   ]
  },
  {
   "cell_type": "code",
   "execution_count": 26,
   "metadata": {},
   "outputs": [],
   "source": [
    "\n",
    "import pickle\n"
   ]
  },
  {
   "cell_type": "code",
   "execution_count": 27,
   "metadata": {},
   "outputs": [],
   "source": [
    "pickle.dump(regr,open(\"model.pkl\",\"wb\"))"
   ]
  },
  {
   "cell_type": "code",
   "execution_count": 28,
   "metadata": {},
   "outputs": [
    {
     "name": "stdout",
     "output_type": "stream",
     "text": [
      "[904.]\n"
     ]
    }
   ],
   "source": [
    "regr=pickle.load(open(\"model.pkl\",\"rb\"))\n",
    "# result=loaded_model.predict(X_test)\n",
    "# result=loaded_model.predict([[0,40,1,3,1,179]])\n",
    "print(regr.predict([[0,40,1,3,1,179]]))\n",
    "\n"
   ]
  },
  {
   "cell_type": "code",
   "execution_count": 29,
   "metadata": {},
   "outputs": [],
   "source": [
    "# from sklearn import ensemble\n",
    "# from sklearn.model_selection import train_test_split\n",
    "# from sklearn.metrics import r2_score\n",
    "# x=np.asanyarray(train[['Manufacturerle','Transmissionle','Vehicle_Typele','Fuel_Typele','Powertrainle','Engine_PowerPS']])\n",
    "# y=np.asanyarray(train[['Emissions_CO2']])\n",
    "# X_train,X_test,y_train,y_test=train_test_split(x,y,test_size=.8,random_state=0)\n",
    "# regr=ensemble.RandomForestRegressor()\n",
    "# regr.fit(X_train,y_train)\n",
    "# y_pred=regr.predict(X_test)\n",
    "# score=r2_score(y_test,y_pred)\n",
    "# from sklearn.calibration import cross_val_predict\n",
    "# y_pred_lin = cross_val_predict(regr,X_train,y_train,cv=10)\n",
    "# plt.scatter(y_train, y_pred_lin)\n",
    "# plt.show()\n",
    "# print(regr.score(X_train,y_train))"
   ]
  }
 ],
 "metadata": {
  "kernelspec": {
   "display_name": "Python 3",
   "language": "python",
   "name": "python3"
  },
  "language_info": {
   "codemirror_mode": {
    "name": "ipython",
    "version": 3
   },
   "file_extension": ".py",
   "mimetype": "text/x-python",
   "name": "python",
   "nbconvert_exporter": "python",
   "pygments_lexer": "ipython3",
   "version": "3.12.0"
  }
 },
 "nbformat": 4,
 "nbformat_minor": 2
}
